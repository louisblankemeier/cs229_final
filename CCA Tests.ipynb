{
 "cells": [
  {
   "cell_type": "code",
   "execution_count": null,
   "metadata": {},
   "outputs": [],
   "source": [
    "import numpy as np\n",
    "from sklearn.cross_decomposition import CCA\n",
    "import matplotlib.pyplot as plt\n"
   ]
  },
  {
   "cell_type": "code",
   "execution_count": null,
   "metadata": {},
   "outputs": [],
   "source": [
    "saved_data = np.load('processed_data.npz')\n",
    "X = saved_data['X']\n",
    "X_sym = saved_data['X_sym']\n",
    "Y = saved_data['Y']\n",
    "Z = saved_data['Z']\n",
    "pids = saved_data['pids']\n",
    "\n",
    "M = X.shape[0]\n",
    "p = X.shape[1]; q = Y.shape[1]"
   ]
  },
  {
   "cell_type": "code",
   "execution_count": null,
   "metadata": {},
   "outputs": [],
   "source": [
    "split = 0.8\n",
    "m_train = int(split*M) + 1\n",
    "x_train = X_sym[:m_train, :, 0]; y_train = Z[:m_train, :]\n",
    "\n",
    "cca = CCA(n_components=3)\n",
    "x_c, y_c = cca.fit_transform(x_train, y_train)"
   ]
  },
  {
   "cell_type": "code",
   "execution_count": null,
   "metadata": {
    "scrolled": false
   },
   "outputs": [],
   "source": [
    "x_test = X_sym[m_train:, :, 0]; y_test = Z[m_train:, :]\n",
    "x_tc, y_tc = cca.transform(x_test, y_test)\n",
    "\n",
    "plt.figure(figsize=(15,6))\n",
    "plt.subplot(121)\n",
    "plt.title('Projection onto First Canonical Vectors')\n",
    "plt.scatter(x_c[:,0],y_c[:,0], c='b', label='Training Data'); plt.scatter(x_tc[:,0],y_tc[:,0], c='r', label='Test Data')\n",
    "plt.xlabel('u'); plt.ylabel('v')\n",
    "\n",
    "plt.subplot(122)\n",
    "plt.title('Projection onto Second Canonical Vectors')\n",
    "plt.scatter(x_c[:,1],y_c[:,1], c='b', label='Training Data'); plt.scatter(x_tc[:,1],y_tc[:,1], c='r', label='Test Data')\n",
    "plt.xlabel('u'); plt.ylabel('v')\n",
    "plt.savefig('CCA_results.png')\n"
   ]
  },
  {
   "cell_type": "markdown",
   "metadata": {},
   "source": [
    "## Sanity check"
   ]
  },
  {
   "cell_type": "code",
   "execution_count": null,
   "metadata": {},
   "outputs": [],
   "source": [
    "A = np.random.randn(100,20)\n",
    "B = np.random.randn(100,5)\n",
    "cca_t = CCA(n_components=2)\n",
    "A_c, B_c = cca_t.fit_transform(A,B)\n",
    "\n",
    "plt.figure()\n",
    "plt.scatter(A_c[:,0], B_c[:,0])\n",
    "plt.figure()\n",
    "plt.scatter(A_c[:,1], B_c[:,1])"
   ]
  },
  {
   "cell_type": "code",
   "execution_count": null,
   "metadata": {},
   "outputs": [],
   "source": [
    "C = np.random.randn(20,5)\n",
    "A = np.random.randn(100,20)\n",
    "B = A @ C\n",
    "cca_t = CCA(n_components=2)\n",
    "A_c, B_c = cca_t.fit_transform(A[:80,:],A[:80,:])\n",
    "\n",
    "A_ct, B_ct = cca_t.transform(A[80:,:], A[80:, :])\n",
    "plt.figure()\n",
    "plt.scatter(A_c[:,0], B_c[:,0], c='b'); plt.scatter(A_ct[:,0], B_ct[:,0], c='r')\n",
    "plt.figure()\n",
    "plt.scatter(A_c[:,1], B_c[:,1], c='b'); plt.scatter(A_ct[:,0], B_ct[:,0], c='r')"
   ]
  }
 ],
 "metadata": {
  "kernelspec": {
   "display_name": "Python 3",
   "language": "python",
   "name": "python3"
  },
  "language_info": {
   "codemirror_mode": {
    "name": "ipython",
    "version": 3
   },
   "file_extension": ".py",
   "mimetype": "text/x-python",
   "name": "python",
   "nbconvert_exporter": "python",
   "pygments_lexer": "ipython3",
   "version": "3.6.4"
  }
 },
 "nbformat": 4,
 "nbformat_minor": 2
}
